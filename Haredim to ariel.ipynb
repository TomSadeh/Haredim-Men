{
 "cells": [
  {
   "cell_type": "markdown",
   "metadata": {},
   "source": [
    "Importing the required libraries."
   ]
  },
  {
   "cell_type": "code",
   "execution_count": null,
   "metadata": {},
   "outputs": [],
   "source": [
    "import pandas as pd\n",
    "import numpy as np"
   ]
  },
  {
   "cell_type": "markdown",
   "metadata": {},
   "source": [
    "Creating a function to calculate the weighted median of a given series of values and weights."
   ]
  },
  {
   "cell_type": "code",
   "execution_count": null,
   "metadata": {},
   "outputs": [],
   "source": [
    "def weighted_median(data, weights, interpolate = True):\n",
    "    \"\"\"\n",
    "    A function that calculates the weighted median of a given series of values \n",
    "    by using a series of weights.\n",
    "    \n",
    "    Parameters\n",
    "    ----------\n",
    "    data : Iterable\n",
    "        The data which the function calculates the median for.\n",
    "    weights : Iterable\n",
    "        The weights the function uses to calculate an weighted median.\n",
    "\n",
    "    Returns\n",
    "    -------\n",
    "    numpy.float64\n",
    "        The function return the weighted median.\n",
    "        \n",
    "    Required libraries\n",
    "    ---------\n",
    "    Numpy.\n",
    "    \"\"\"\n",
    "    #Forcing the data to a numpy array.\n",
    "    data = np.array(data)\n",
    "    weights = np.array(weights)\n",
    "    \n",
    "    #Sorting the data and the weights.\n",
    "    ind_sorted = np.argsort(data)\n",
    "    sorted_data = data[ind_sorted]\n",
    "    sorted_weights = weights[ind_sorted]\n",
    "   \n",
    "    #Calculating the cumulative sum of the weights.\n",
    "    sn = np.cumsum(sorted_weights)\n",
    "    \n",
    "    #Calculating the threshold.\n",
    "    threshold = sorted_weights.sum()/2\n",
    "   \n",
    "    #Interpolating the median and returning it.\n",
    "    if interpolate == False:\n",
    "        return sorted_data[sn >= threshold][0]\n",
    "            \n",
    "    #Returning the first value that equals or larger than the threshold.\n",
    "    else:\n",
    "        return np.interp(0.5, (sn - 0.5 * sorted_weights) / np.sum(sorted_weights), sorted_data) \n"
   ]
  },
  {
   "cell_type": "markdown",
   "metadata": {},
   "source": [
    "Creating the lists of file names t iterate with. Swich your address in the 'base_address' variable. DON'T erase the 'r'."
   ]
  },
  {
   "cell_type": "code",
   "execution_count": null,
   "metadata": {},
   "outputs": [],
   "source": [
    "base_address = r'C:\\Users\\User\\Google Drive\\k_data\\CBS Households Expenditures Survey'\n",
    "folder_names = ['\\\\famexp_2010', '\\\\famexp_2011', '\\\\famexp_2012', '\\\\famexp_2013']\n",
    "mb_file_names = ['\\\\H20101022datamb.csv', '\\\\H20111021datamb.csv']\n",
    "prat_file_names = ['\\\\H20101022dataprat.csv', '\\\\H20111021dataprat.csv', '\\\\H20121022dataprat.csv', '\\\\H20131021dataprat.csv']\n",
    "results = pd.DataFrame(index = [2010, 2011, 2012, 2013])\n"
   ]
  },
  {
   "cell_type": "markdown",
   "metadata": {},
   "source": [
    "The loop that calcultes each mean and median for the different years."
   ]
  },
  {
   "cell_type": "code",
   "execution_count": null,
   "metadata": {},
   "outputs": [],
   "source": [
    "for year, folder, prat_file in zip(results.index, folder_names, prat_file_names):\n",
    "    df_prat = pd.read_csv(base_address + folder + prat_file)\n",
    "    if year in [2010, 2011]:\n",
    "        df_mb = pd.read_csv(base_address + folder + mb_file_names[year - 2010], index_col = 'misparmb')\n",
    "        df_prat['weight'] = 0\n",
    "        for mb, i in zip(df_mb.index, df_prat.index): \n",
    "            df_prat.loc[i, 'weight'] = df_mb.loc[mb, 'mishkal'] # Using the household's weights for the prat file.\n",
    "    \n",
    "    yeshiva = df_prat[df_prat['l_school'] == 10] #Counting only individuals that their last school was a Kolel or Yeshiva.\n",
    "    men_yeshiva = yeshiva[yeshiva['min'] == 1] #Counting only men.\n",
    "    men_yeshiva_25_64 = yeshiva[(yeshiva['gil'] >= 25) & (yeshiva['gil'] < 65)] #Counting only ages 25-64 .\n",
    "    men_yeshiva_25_64 = men_yeshiva_25_64[men_yeshiva_25_64['i111prat'] > 0] #Counting only those with wages.\n",
    "    results.loc[year, 'Average'] = np.average(men_yeshiva_25_64['i111prat'], weights = men_yeshiva_25_64['weight']) #Calculating the mean.\n",
    "    results.loc[year, 'Median'] = weighted_median(men_yeshiva_25_64['i111prat'], men_yeshiva_25_64['weight']) #Calculating the median."
   ]
  },
  {
   "cell_type": "markdown",
   "metadata": {},
   "source": [
    "Saving the results. Insert your address here to save the file."
   ]
  },
  {
   "cell_type": "code",
   "execution_count": null,
   "metadata": {},
   "outputs": [],
   "source": [
    "address = r''\n",
    "results.to_csv(address + '\\\\reuslts haredim men.csv')"
   ]
  }
 ],
 "metadata": {
  "kernelspec": {
   "display_name": "Python 3",
   "language": "python",
   "name": "python3"
  },
  "language_info": {
   "codemirror_mode": {
    "name": "ipython",
    "version": 3
   },
   "file_extension": ".py",
   "mimetype": "text/x-python",
   "name": "python",
   "nbconvert_exporter": "python",
   "pygments_lexer": "ipython3",
   "version": "3.8.3"
  }
 },
 "nbformat": 4,
 "nbformat_minor": 4
}
